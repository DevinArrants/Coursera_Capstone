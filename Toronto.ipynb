{
    "cells": [
        {
            "cell_type": "markdown",
            "metadata": {},
            "source": "# Segmenting and Clustering Neighborhoods in Toronto"
        },
        {
            "cell_type": "markdown",
            "metadata": {},
            "source": "#### By Devin Arrants"
        },
        {
            "cell_type": "markdown",
            "metadata": {},
            "source": "## 1. Access data "
        },
        {
            "cell_type": "code",
            "execution_count": 1,
            "metadata": {},
            "outputs": [
                {
                    "name": "stdout",
                    "output_type": "stream",
                    "text": "Collecting package metadata (current_repodata.json): done\nSolving environment: done\n\n# All requested packages already installed.\n\nImport Complete\n"
                }
            ],
            "source": "import numpy as np \nimport pandas as pd\nfrom urllib.request import urlopen\n\n!conda install -c conda-forge bs4 --yes \nfrom bs4 import BeautifulSoup ##used to extract data from HTML files\nprint(\"Import Complete\")"
        },
        {
            "cell_type": "code",
            "execution_count": 100,
            "metadata": {},
            "outputs": [],
            "source": "url = \"https://en.wikipedia.org/wiki/List_of_postal_codes_of_Canada:_M\"\nhtml = urlopen(url)"
        },
        {
            "cell_type": "code",
            "execution_count": 101,
            "metadata": {},
            "outputs": [],
            "source": "soup = BeautifulSoup(html, \"html.parser\")    ##create a beautiful soup object from the html"
        },
        {
            "cell_type": "markdown",
            "metadata": {},
            "source": "## 2. Format the Data\nIn this step we format the data in such a way that it will populate the data table in the next step with ease. "
        },
        {
            "cell_type": "code",
            "execution_count": 127,
            "metadata": {},
            "outputs": [
                {
                    "data": {
                        "text/plain": "[<td>M1A\n </td>,\n <td>Not assigned\n </td>,\n <td>\n </td>,\n <td>M2A\n </td>,\n <td>Not assigned\n </td>]"
                    },
                    "execution_count": 127,
                    "metadata": {},
                    "output_type": "execute_result"
                }
            ],
            "source": "rows = soup.find_all('td') #getting the rows from the table \nrows[:5]"
        },
        {
            "cell_type": "code",
            "execution_count": 103,
            "metadata": {},
            "outputs": [],
            "source": "cleantext = BeautifulSoup(str(rows), \"html.parser\").get_text()   "
        },
        {
            "cell_type": "markdown",
            "metadata": {},
            "source": "## 2. Clean and Format the Data\nIn this step we clean and format the data until it is in the correct format to be put into a pandas data frame"
        },
        {
            "cell_type": "code",
            "execution_count": 104,
            "metadata": {},
            "outputs": [
                {
                    "data": {
                        "text/plain": "'M1A\\n, Not assigned\\n, \\n, M2A\\n, Not assigned\\n, \\n, M3A\\n, North York\\n, Parkwoods\\n, M4A\\n, North York\\n, Vi'"
                    },
                    "execution_count": 104,
                    "metadata": {},
                    "output_type": "execute_result"
                }
            ],
            "source": " #slice the text to where the postal codes begin and where the postal codes end\ncleantext = cleantext[cleantext.rfind(\"M1A\"):cleantext.rfind(\", \\n, \\n, \\n\")] \ncleantext[0:100]"
        },
        {
            "cell_type": "code",
            "execution_count": 105,
            "metadata": {},
            "outputs": [
                {
                    "data": {
                        "text/plain": "['M1A', ' Not assigned', ' ', ' M2A', ' Not assigned']"
                    },
                    "execution_count": 105,
                    "metadata": {},
                    "output_type": "execute_result"
                }
            ],
            "source": "#create a list from the string by splitting at \\n\nliststr = cleantext.split(\"\\n,\")\nliststr[:5]"
        },
        {
            "cell_type": "code",
            "execution_count": 126,
            "metadata": {},
            "outputs": [],
            "source": "#create the data frame and columns\ncolumn_names = ['Postal Code', 'Borough', 'Neighborhood'] \nneighborhoods_df = pd.DataFrame(columns=column_names)"
        },
        {
            "cell_type": "markdown",
            "metadata": {},
            "source": "## Populate the data frame\nThis loop will traverse the list while the list still exists by looking at three elements at a time.\nThe first element is always the postal code, the second element is always the borough name, and the third element is always the neighborhood name\nIf there is no neighborhood assigned to a particular borough, there is still a space at the index where it is\nThen to ensure that we are not repeating data we slice the list that is being looped through so it contains three less elements "
        },
        {
            "cell_type": "code",
            "execution_count": 107,
            "metadata": {},
            "outputs": [
                {
                    "data": {
                        "text/html": "<div>\n<style scoped>\n    .dataframe tbody tr th:only-of-type {\n        vertical-align: middle;\n    }\n\n    .dataframe tbody tr th {\n        vertical-align: top;\n    }\n\n    .dataframe thead th {\n        text-align: right;\n    }\n</style>\n<table border=\"1\" class=\"dataframe\">\n  <thead>\n    <tr style=\"text-align: right;\">\n      <th></th>\n      <th>Postal Code</th>\n      <th>Borough</th>\n      <th>Neighborhood</th>\n    </tr>\n  </thead>\n  <tbody>\n    <tr>\n      <th>0</th>\n      <td>M1A</td>\n      <td>Not assigned</td>\n      <td></td>\n    </tr>\n    <tr>\n      <th>1</th>\n      <td>M2A</td>\n      <td>Not assigned</td>\n      <td></td>\n    </tr>\n    <tr>\n      <th>2</th>\n      <td>M3A</td>\n      <td>North York</td>\n      <td>Parkwoods</td>\n    </tr>\n    <tr>\n      <th>3</th>\n      <td>M4A</td>\n      <td>North York</td>\n      <td>Victoria Village</td>\n    </tr>\n    <tr>\n      <th>4</th>\n      <td>M5A</td>\n      <td>Downtown Toronto</td>\n      <td>Regent Park / Harbourfront</td>\n    </tr>\n    <tr>\n      <th>...</th>\n      <td>...</td>\n      <td>...</td>\n      <td>...</td>\n    </tr>\n    <tr>\n      <th>175</th>\n      <td>M5Z</td>\n      <td>Not assigned</td>\n      <td></td>\n    </tr>\n    <tr>\n      <th>176</th>\n      <td>M6Z</td>\n      <td>Not assigned</td>\n      <td></td>\n    </tr>\n    <tr>\n      <th>177</th>\n      <td>M7Z</td>\n      <td>Not assigned</td>\n      <td></td>\n    </tr>\n    <tr>\n      <th>178</th>\n      <td>M8Z</td>\n      <td>Etobicoke</td>\n      <td>Mimico NW / The Queensway West / South of Blo...</td>\n    </tr>\n    <tr>\n      <th>179</th>\n      <td>M9Z</td>\n      <td>Not assigned</td>\n      <td>\\n</td>\n    </tr>\n  </tbody>\n</table>\n<p>180 rows \u00d7 3 columns</p>\n</div>",
                        "text/plain": "    Postal Code            Borough  \\\n0           M1A       Not assigned   \n1           M2A       Not assigned   \n2           M3A         North York   \n3           M4A         North York   \n4           M5A   Downtown Toronto   \n..          ...                ...   \n175         M5Z       Not assigned   \n176         M6Z       Not assigned   \n177         M7Z       Not assigned   \n178         M8Z          Etobicoke   \n179         M9Z       Not assigned   \n\n                                          Neighborhood  \n0                                                       \n1                                                       \n2                                            Parkwoods  \n3                                     Victoria Village  \n4                           Regent Park / Harbourfront  \n..                                                 ...  \n175                                                     \n176                                                     \n177                                                     \n178   Mimico NW / The Queensway West / South of Blo...  \n179                                                 \\n  \n\n[180 rows x 3 columns]"
                    },
                    "execution_count": 107,
                    "metadata": {},
                    "output_type": "execute_result"
                }
            ],
            "source": "#traverse data so everytime a new line is encountered it is stored in the corresponding variable \nwhile len(liststr) > 0:\n    postal = liststr[0]\n    borough_name = liststr[1]\n    neighborhood_name = liststr[2]\n    liststr = liststr[3:]    #cut the list so that we are not repeating postal codes\n    neighborhoods_df = neighborhoods_df.append({'Postal Code': postal,\n                                          'Borough': borough_name,\n                                          'Neighborhood': neighborhood_name}, ignore_index=True)\n                                                "
        },
        {
            "cell_type": "code",
            "execution_count": 108,
            "metadata": {},
            "outputs": [
                {
                    "data": {
                        "text/html": "<div>\n<style scoped>\n    .dataframe tbody tr th:only-of-type {\n        vertical-align: middle;\n    }\n\n    .dataframe tbody tr th {\n        vertical-align: top;\n    }\n\n    .dataframe thead th {\n        text-align: right;\n    }\n</style>\n<table border=\"1\" class=\"dataframe\">\n  <thead>\n    <tr style=\"text-align: right;\">\n      <th></th>\n      <th>Postal Code</th>\n      <th>Borough</th>\n      <th>Neighborhood</th>\n    </tr>\n  </thead>\n  <tbody>\n    <tr>\n      <th>2</th>\n      <td>M3A</td>\n      <td>North York</td>\n      <td>Parkwoods</td>\n    </tr>\n    <tr>\n      <th>3</th>\n      <td>M4A</td>\n      <td>North York</td>\n      <td>Victoria Village</td>\n    </tr>\n    <tr>\n      <th>4</th>\n      <td>M5A</td>\n      <td>Downtown Toronto</td>\n      <td>Regent Park / Harbourfront</td>\n    </tr>\n    <tr>\n      <th>5</th>\n      <td>M6A</td>\n      <td>North York</td>\n      <td>Lawrence Manor / Lawrence Heights</td>\n    </tr>\n    <tr>\n      <th>6</th>\n      <td>M7A</td>\n      <td>Downtown Toronto</td>\n      <td>Queen's Park / Ontario Provincial Government</td>\n    </tr>\n    <tr>\n      <th>...</th>\n      <td>...</td>\n      <td>...</td>\n      <td>...</td>\n    </tr>\n    <tr>\n      <th>160</th>\n      <td>M8X</td>\n      <td>Etobicoke</td>\n      <td>The Kingsway / Montgomery Road  / Old Mill North</td>\n    </tr>\n    <tr>\n      <th>165</th>\n      <td>M4Y</td>\n      <td>Downtown Toronto</td>\n      <td>Church and Wellesley</td>\n    </tr>\n    <tr>\n      <th>168</th>\n      <td>M7Y</td>\n      <td>East Toronto</td>\n      <td>Business reply mail Processing CentrE</td>\n    </tr>\n    <tr>\n      <th>169</th>\n      <td>M8Y</td>\n      <td>Etobicoke</td>\n      <td>Old Mill South / King's Mill Park / Sunnylea ...</td>\n    </tr>\n    <tr>\n      <th>178</th>\n      <td>M8Z</td>\n      <td>Etobicoke</td>\n      <td>Mimico NW / The Queensway West / South of Blo...</td>\n    </tr>\n  </tbody>\n</table>\n<p>103 rows \u00d7 3 columns</p>\n</div>",
                        "text/plain": "    Postal Code            Borough  \\\n2           M3A         North York   \n3           M4A         North York   \n4           M5A   Downtown Toronto   \n5           M6A         North York   \n6           M7A   Downtown Toronto   \n..          ...                ...   \n160         M8X          Etobicoke   \n165         M4Y   Downtown Toronto   \n168         M7Y       East Toronto   \n169         M8Y          Etobicoke   \n178         M8Z          Etobicoke   \n\n                                          Neighborhood  \n2                                            Parkwoods  \n3                                     Victoria Village  \n4                           Regent Park / Harbourfront  \n5                    Lawrence Manor / Lawrence Heights  \n6         Queen's Park / Ontario Provincial Government  \n..                                                 ...  \n160   The Kingsway / Montgomery Road  / Old Mill North  \n165                               Church and Wellesley  \n168              Business reply mail Processing CentrE  \n169   Old Mill South / King's Mill Park / Sunnylea ...  \n178   Mimico NW / The Queensway West / South of Blo...  \n\n[103 rows x 3 columns]"
                    },
                    "execution_count": 108,
                    "metadata": {},
                    "output_type": "execute_result"
                }
            ],
            "source": "#remove rows of not assigned boroughs\nneighborhoods_df.replace('Not assigned',np.nan,inplace=True, regex=True)\nneighborhoods_df.dropna(axis=0, inplace=True)"
        },
        {
            "cell_type": "code",
            "execution_count": 112,
            "metadata": {},
            "outputs": [
                {
                    "name": "stdout",
                    "output_type": "stream",
                    "text": "The dataframe has 10 boroughs and 103 postal codes.\n"
                }
            ],
            "source": "print('The dataframe has {} boroughs and {} postal codes.'.format(\n        len(neighborhoods_df['Borough'].unique()),\n       len(neighborhoods_df['Postal Code'].unique())\n    )\n)\n\n#reset the index\nneighborhoods_df.reset_index(drop=True, inplace=True)\n\n#there is no need to merge cells with the same postal codes because they are all unique. I guess wikipedia updated\n#additionally there is no borough with a not assigned neighborhood so that step is unnecessary"
        },
        {
            "cell_type": "code",
            "execution_count": 121,
            "metadata": {},
            "outputs": [],
            "source": "#format the neighborhoods with commas\nneighborhoods_df['Neighborhood'].replace(\"/\", \",\", inplace=True, regex=True)"
        },
        {
            "cell_type": "code",
            "execution_count": 125,
            "metadata": {},
            "outputs": [
                {
                    "name": "stdout",
                    "output_type": "stream",
                    "text": "This is the number of postal codes that have a borough associated with it: 103\n"
                }
            ],
            "source": "print(\"This is the number of postal codes that have a borough associated with it:\", neighborhoods_df.shape[0])"
        },
        {
            "cell_type": "code",
            "execution_count": null,
            "metadata": {},
            "outputs": [],
            "source": ""
        }
    ],
    "metadata": {
        "kernelspec": {
            "display_name": "Python 3.6",
            "language": "python",
            "name": "python3"
        },
        "language_info": {
            "codemirror_mode": {
                "name": "ipython",
                "version": 3
            },
            "file_extension": ".py",
            "mimetype": "text/x-python",
            "name": "python",
            "nbconvert_exporter": "python",
            "pygments_lexer": "ipython3",
            "version": "3.6.9"
        }
    },
    "nbformat": 4,
    "nbformat_minor": 4
}