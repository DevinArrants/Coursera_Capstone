{
    "cells": [
        {
            "cell_type": "markdown",
            "metadata": {},
            "source": "# Segmenting and Clustering Neighborhoods in Toronto"
        },
        {
            "cell_type": "markdown",
            "metadata": {},
            "source": "#### By Devin Arrants"
        },
        {
            "cell_type": "markdown",
            "metadata": {},
            "source": "## 1. Access data "
        },
        {
            "cell_type": "code",
            "execution_count": 1,
            "metadata": {},
            "outputs": [
                {
                    "name": "stdout",
                    "output_type": "stream",
                    "text": "Solving environment: / ^C\nfailed\n\nCondaError: KeyboardInterrupt\n\nImport Complete\n"
                }
            ],
            "source": "import numpy as np \nimport pandas as pd\nfrom urllib.request import urlopen\n\n!conda install -c conda-forge bs4 --yes \nfrom bs4 import BeautifulSoup ##used to extract data from HTML files\nprint(\"Import Complete\")"
        },
        {
            "cell_type": "code",
            "execution_count": 2,
            "metadata": {},
            "outputs": [],
            "source": "url = \"https://en.wikipedia.org/wiki/List_of_postal_codes_of_Canada:_M\"\nhtml = urlopen(url)"
        },
        {
            "cell_type": "code",
            "execution_count": 3,
            "metadata": {},
            "outputs": [],
            "source": "soup = BeautifulSoup(html, \"html.parser\")    ##create a beautiful soup object from the html"
        },
        {
            "cell_type": "markdown",
            "metadata": {},
            "source": "## 2. Format the Data\nIn this step we format the data in such a way that it will populate the data table in the next step with ease. "
        },
        {
            "cell_type": "code",
            "execution_count": 4,
            "metadata": {},
            "outputs": [
                {
                    "data": {
                        "text/plain": "[<td>M1A\n </td>, <td>Not assigned\n </td>, <td>\n </td>, <td>M2A\n </td>, <td>Not assigned\n </td>]"
                    },
                    "execution_count": 4,
                    "metadata": {},
                    "output_type": "execute_result"
                }
            ],
            "source": "rows = soup.find_all('td') #getting the rows from the table "
        },
        {
            "cell_type": "code",
            "execution_count": 5,
            "metadata": {},
            "outputs": [],
            "source": "cleantext = BeautifulSoup(str(rows), \"html.parser\").get_text()   "
        },
        {
            "cell_type": "markdown",
            "metadata": {},
            "source": "## 2. Clean and Format the Data\nIn this step we clean and format the data until it is in the correct format to be put into a pandas data frame"
        },
        {
            "cell_type": "code",
            "execution_count": 6,
            "metadata": {},
            "outputs": [
                {
                    "data": {
                        "text/plain": "'M1A\\n, Not assigned\\n, \\n, M2A\\n, Not assigned\\n, \\n, M3A\\n, North York\\n, Parkwoods\\n, M4A\\n, North York\\n, Vi'"
                    },
                    "execution_count": 6,
                    "metadata": {},
                    "output_type": "execute_result"
                }
            ],
            "source": " #slice the text to where the postal codes begin and where the postal codes end\ncleantext = cleantext[cleantext.rfind(\"M1A\"):cleantext.rfind(\", \\n, \\n, \\n\")] "
        },
        {
            "cell_type": "code",
            "execution_count": 7,
            "metadata": {},
            "outputs": [
                {
                    "data": {
                        "text/plain": "['M1A', ' Not assigned', ' ', ' M2A', ' Not assigned']"
                    },
                    "execution_count": 7,
                    "metadata": {},
                    "output_type": "execute_result"
                }
            ],
            "source": "#create a list from the string by splitting at \\n\nliststr = cleantext.split(\"\\n,\")"
        },
        {
            "cell_type": "code",
            "execution_count": 8,
            "metadata": {},
            "outputs": [],
            "source": "#create the data frame and columns\ncolumn_names = ['Postal Code', 'Borough', 'Neighborhood'] \nneighborhoods_df = pd.DataFrame(columns=column_names)"
        },
        {
            "cell_type": "markdown",
            "metadata": {},
            "source": "## Populate the data frame\nThis loop will traverse the list while the list still exists by looking at three elements at a time.\nThe first element is always the postal code, the second element is always the borough name, and the third element is always the neighborhood name\nIf there is no neighborhood assigned to a particular borough, there is still a space at the index where it is\nThen to ensure that we are not repeating data we slice the list that is being looped through so it contains three less elements "
        },
        {
            "cell_type": "code",
            "execution_count": 9,
            "metadata": {},
            "outputs": [],
            "source": "#traverse data so everytime a new line is encountered it is stored in the corresponding variable \nwhile len(liststr) > 0:\n    postal = liststr[0]\n    borough_name = liststr[1]\n    neighborhood_name = liststr[2]\n    liststr = liststr[3:]    #cut the list so that we are not repeating postal codes\n    neighborhoods_df = neighborhoods_df.append({'Postal Code': postal,\n                                          'Borough': borough_name,\n                                          'Neighborhood': neighborhood_name}, ignore_index=True)\n                                                "
        },
        {
            "cell_type": "code",
            "execution_count": 10,
            "metadata": {},
            "outputs": [],
            "source": "#remove rows of not assigned boroughs\nneighborhoods_df.replace('Not assigned',np.nan,inplace=True, regex=True)\nneighborhoods_df.dropna(axis=0, inplace=True)"
        },
        {
            "cell_type": "code",
            "execution_count": 11,
            "metadata": {},
            "outputs": [
                {
                    "name": "stdout",
                    "output_type": "stream",
                    "text": "The dataframe has 10 boroughs and 103 postal codes.\n"
                }
            ],
            "source": "print('The dataframe has {} boroughs and {} postal codes.'.format(\n        len(neighborhoods_df['Borough'].unique()),\n       len(neighborhoods_df['Postal Code'].unique())\n    )\n)\n\n#reset the index\nneighborhoods_df.reset_index(drop=True, inplace=True)\n\n#there is no need to merge cells with the same postal codes because they are all unique. I guess wikipedia updated\n#additionally there is no borough with a not assigned neighborhood so that step is unnecessary"
        },
        {
            "cell_type": "code",
            "execution_count": 12,
            "metadata": {},
            "outputs": [],
            "source": "#format the neighborhoods with commas\nneighborhoods_df['Neighborhood'].replace(\"/\", \",\", inplace=True, regex=True)\nneighborhoods_df.head()"
        },
        {
            "cell_type": "code",
            "execution_count": 13,
            "metadata": {},
            "outputs": [
                {
                    "name": "stdout",
                    "output_type": "stream",
                    "text": "This is the number of postal codes that have a borough associated with it: 103\n"
                }
            ],
            "source": "print(\"This is the number of postal codes that have a borough associated with it:\", neighborhoods_df.shape[0])"
        },
        {
            "cell_type": "code",
            "execution_count": null,
            "metadata": {},
            "outputs": [],
            "source": ""
        }
    ],
    "metadata": {
        "kernelspec": {
            "display_name": "Python 3.6",
            "language": "python",
            "name": "python3"
        },
        "language_info": {
            "codemirror_mode": {
                "name": "ipython",
                "version": 3
            },
            "file_extension": ".py",
            "mimetype": "text/x-python",
            "name": "python",
            "nbconvert_exporter": "python",
            "pygments_lexer": "ipython3",
            "version": "3.6.9"
        }
    },
    "nbformat": 4,
    "nbformat_minor": 4
}