{
 "cells": [
  {
   "cell_type": "markdown",
   "metadata": {},
   "source": [
    "# Segmenting and Clustering Neighborhoods in Toronto"
   ]
  },
  {
   "cell_type": "markdown",
   "metadata": {},
   "source": [
    "#### By Devin Arrants"
   ]
  },
  {
   "cell_type": "markdown",
   "metadata": {},
   "source": [
    "## 1. Access data "
   ]
  },
  {
   "cell_type": "code",
   "execution_count": 1,
   "metadata": {
    "scrolled": true
   },
   "outputs": [
    {
     "name": "stdout",
     "output_type": "stream",
     "text": [
      "Solving environment: / ^C\n",
      "failed\n",
      "\n",
      "CondaError: KeyboardInterrupt\n",
      "\n",
      "Import Complete\n"
     ]
    }
   ],
   "source": [
    "import numpy as np \n",
    "import pandas as pd\n",
    "from urllib.request import urlopen\n",
    "\n",
    "!conda install -c conda-forge bs4 --yes \n",
    "from bs4 import BeautifulSoup ##used to extract data from HTML files\n",
    "print(\"Import Complete\")"
   ]
  },
  {
   "cell_type": "code",
   "execution_count": 2,
   "metadata": {},
   "outputs": [],
   "source": [
    "url = \"https://en.wikipedia.org/wiki/List_of_postal_codes_of_Canada:_M\"\n",
    "html = urlopen(url)"
   ]
  },
  {
   "cell_type": "code",
   "execution_count": 3,
   "metadata": {},
   "outputs": [],
   "source": [
    "soup = BeautifulSoup(html, \"html.parser\")    ##create a beautiful soup object from the html"
   ]
  },
  {
   "cell_type": "markdown",
   "metadata": {},
   "source": [
    "## 2. Format the Data\n",
    "In this step we format the data in such a way that it will populate the data table in the next step with ease. "
   ]
  },
  {
   "cell_type": "code",
   "execution_count": 4,
   "metadata": {},
   "outputs": [],
   "source": [
    "rows = soup.find_all('td') #getting the rows from the table "
   ]
  },
  {
   "cell_type": "code",
   "execution_count": 5,
   "metadata": {},
   "outputs": [],
   "source": [
    "cleantext = BeautifulSoup(str(rows), \"html.parser\").get_text()   "
   ]
  },
  {
   "cell_type": "markdown",
   "metadata": {},
   "source": [
    "## 2. Clean and Format the Data\n",
    "In this step we clean and format the data until it is in the correct format to be put into a pandas data frame"
   ]
  },
  {
   "cell_type": "code",
   "execution_count": 6,
   "metadata": {},
   "outputs": [],
   "source": [
    " #slice the text to where the postal codes begin and where the postal codes end\n",
    "cleantext = cleantext[cleantext.rfind(\"M1A\"):cleantext.rfind(\", \\n, \\n, \\n\")] "
   ]
  },
  {
   "cell_type": "code",
   "execution_count": 7,
   "metadata": {},
   "outputs": [],
   "source": [
    "#create a list from the string by splitting at \\n\n",
    "liststr = cleantext.split(\"\\n,\")"
   ]
  },
  {
   "cell_type": "code",
   "execution_count": 8,
   "metadata": {},
   "outputs": [],
   "source": [
    "#create the data frame and columns\n",
    "column_names = ['Postal Code', 'Borough', 'Neighborhood'] \n",
    "neighborhoods_df = pd.DataFrame(columns=column_names)"
   ]
  },
  {
   "cell_type": "markdown",
   "metadata": {},
   "source": [
    "## Populate the data frame\n",
    "This loop will traverse the list while the list still exists by looking at three elements at a time.\n",
    "The first element is always the postal code, the second element is always the borough name, and the third element is always the neighborhood name\n",
    "If there is no neighborhood assigned to a particular borough, there is still a space at the index where it is\n",
    "Then to ensure that we are not repeating data we slice the list that is being looped through so it contains three less elements "
   ]
  },
  {
   "cell_type": "code",
   "execution_count": 9,
   "metadata": {},
   "outputs": [],
   "source": [
    "#traverse data so everytime a new line is encountered it is stored in the corresponding variable \n",
    "while len(liststr) > 0:\n",
    "    postal = liststr[0]\n",
    "    borough_name = liststr[1]\n",
    "    neighborhood_name = liststr[2]\n",
    "    liststr = liststr[3:]    #cut the list so that we are not repeating postal codes\n",
    "    neighborhoods_df = neighborhoods_df.append({'Postal Code': postal,\n",
    "                                          'Borough': borough_name,\n",
    "                                          'Neighborhood': neighborhood_name}, ignore_index=True)\n",
    "                                                "
   ]
  },
  {
   "cell_type": "code",
   "execution_count": 10,
   "metadata": {},
   "outputs": [],
   "source": [
    "#remove rows of not assigned boroughs\n",
    "neighborhoods_df.replace('Not assigned',np.nan,inplace=True, regex=True)\n",
    "neighborhoods_df.dropna(axis=0, inplace=True)"
   ]
  },
  {
   "cell_type": "code",
   "execution_count": 11,
   "metadata": {},
   "outputs": [
    {
     "name": "stdout",
     "output_type": "stream",
     "text": [
      "The dataframe has 10 boroughs and 103 postal codes.\n"
     ]
    }
   ],
   "source": [
    "print('The dataframe has {} boroughs and {} postal codes.'.format(\n",
    "        len(neighborhoods_df['Borough'].unique()),\n",
    "       len(neighborhoods_df['Postal Code'].unique())\n",
    "    )\n",
    ")\n",
    "\n",
    "#reset the index\n",
    "neighborhoods_df.reset_index(drop=True, inplace=True)\n",
    "\n",
    "#there is no need to merge cells with the same postal codes because they are all unique. I guess wikipedia updated\n",
    "#additionally there is no borough with a not assigned neighborhood so that step is unnecessary"
   ]
  },
  {
   "cell_type": "code",
   "execution_count": 12,
   "metadata": {},
   "outputs": [
    {
     "data": {
      "text/html": [
       "<div>\n",
       "<style scoped>\n",
       "    .dataframe tbody tr th:only-of-type {\n",
       "        vertical-align: middle;\n",
       "    }\n",
       "\n",
       "    .dataframe tbody tr th {\n",
       "        vertical-align: top;\n",
       "    }\n",
       "\n",
       "    .dataframe thead th {\n",
       "        text-align: right;\n",
       "    }\n",
       "</style>\n",
       "<table border=\"1\" class=\"dataframe\">\n",
       "  <thead>\n",
       "    <tr style=\"text-align: right;\">\n",
       "      <th></th>\n",
       "      <th>Postal Code</th>\n",
       "      <th>Borough</th>\n",
       "      <th>Neighborhood</th>\n",
       "    </tr>\n",
       "  </thead>\n",
       "  <tbody>\n",
       "    <tr>\n",
       "      <th>0</th>\n",
       "      <td>M3A</td>\n",
       "      <td>North York</td>\n",
       "      <td>Parkwoods</td>\n",
       "    </tr>\n",
       "    <tr>\n",
       "      <th>1</th>\n",
       "      <td>M4A</td>\n",
       "      <td>North York</td>\n",
       "      <td>Victoria Village</td>\n",
       "    </tr>\n",
       "    <tr>\n",
       "      <th>2</th>\n",
       "      <td>M5A</td>\n",
       "      <td>Downtown Toronto</td>\n",
       "      <td>Regent Park , Harbourfront</td>\n",
       "    </tr>\n",
       "    <tr>\n",
       "      <th>3</th>\n",
       "      <td>M6A</td>\n",
       "      <td>North York</td>\n",
       "      <td>Lawrence Manor , Lawrence Heights</td>\n",
       "    </tr>\n",
       "    <tr>\n",
       "      <th>4</th>\n",
       "      <td>M7A</td>\n",
       "      <td>Downtown Toronto</td>\n",
       "      <td>Queen's Park , Ontario Provincial Government</td>\n",
       "    </tr>\n",
       "  </tbody>\n",
       "</table>\n",
       "</div>"
      ],
      "text/plain": [
       "  Postal Code            Borough  \\\n",
       "0         M3A         North York   \n",
       "1         M4A         North York   \n",
       "2         M5A   Downtown Toronto   \n",
       "3         M6A         North York   \n",
       "4         M7A   Downtown Toronto   \n",
       "\n",
       "                                    Neighborhood  \n",
       "0                                      Parkwoods  \n",
       "1                               Victoria Village  \n",
       "2                     Regent Park , Harbourfront  \n",
       "3              Lawrence Manor , Lawrence Heights  \n",
       "4   Queen's Park , Ontario Provincial Government  "
      ]
     },
     "execution_count": 12,
     "metadata": {},
     "output_type": "execute_result"
    }
   ],
   "source": [
    "#format the neighborhoods with commas\n",
    "neighborhoods_df['Neighborhood'].replace(\"/\", \",\", inplace=True, regex=True)\n",
    "neighborhoods_df.head()"
   ]
  },
  {
   "cell_type": "code",
   "execution_count": 13,
   "metadata": {},
   "outputs": [
    {
     "name": "stdout",
     "output_type": "stream",
     "text": [
      "This is the number of postal codes that have a borough associated with it: 103\n"
     ]
    }
   ],
   "source": [
    "print(\"This is the number of postal codes that have a borough associated with it:\", neighborhoods_df.shape[0])"
   ]
  },
  {
   "cell_type": "code",
   "execution_count": null,
   "metadata": {},
   "outputs": [],
   "source": []
  }
 ],
 "metadata": {
  "kernelspec": {
   "display_name": "Python 3.6",
   "language": "python",
   "name": "python3"
  },
  "language_info": {
   "codemirror_mode": {
    "name": "ipython",
    "version": 3
   },
   "file_extension": ".py",
   "mimetype": "text/x-python",
   "name": "python",
   "nbconvert_exporter": "python",
   "pygments_lexer": "ipython3",
   "version": "3.6.9"
  }
 },
 "nbformat": 4,
 "nbformat_minor": 4
}
